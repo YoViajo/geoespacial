{
 "cells": [
  {
   "cell_type": "markdown",
   "metadata": {},
   "source": [
    "Ref: https://gis.stackexchange.com/questions/75086/for-looping-folder-to-batch-clip-rasters-by-polygon-using-python-and-qgis\n",
    "\n",
    "For looping folder to batch clip rasters by polygon using python and QGIS?"
   ]
  },
  {
   "cell_type": "code",
   "execution_count": 14,
   "metadata": {},
   "outputs": [],
   "source": [
    "import os, fnmatch"
   ]
  },
  {
   "cell_type": "markdown",
   "metadata": {},
   "source": [
    "Definir variables"
   ]
  },
  {
   "cell_type": "code",
   "execution_count": 15,
   "metadata": {},
   "outputs": [],
   "source": [
    "CLIP= \"/home/yoviajo/Documentos/lab/geom/geodat/vector/bo_limite_nacional_b.shp\"\n",
    "INPUT_FOLDER= \"/home/yoviajo/Descargas/d/FABDEM/geodat/orig\"\n",
    "#INPUT_FOLDER= \"/home/yoviajo/Descargas/d/FABDEM/geodat/orig/tmp/\"\n",
    "OUTPUT_FOLDER= \"/home/yoviajo/Descargas/d/FABDEM/geodat/recortado\""
   ]
  },
  {
   "cell_type": "markdown",
   "metadata": {},
   "source": [
    "Función encontrar rásters"
   ]
  },
  {
   "cell_type": "code",
   "execution_count": 16,
   "metadata": {},
   "outputs": [],
   "source": [
    "def findRasters (path, filter):\n",
    "    for root, dirs, files in os.walk(path):\n",
    "        for file in fnmatch.filter(files, filter):\n",
    "            yield file"
   ]
  },
  {
   "cell_type": "markdown",
   "metadata": {},
   "source": [
    "Cuerpo del procesamiento"
   ]
  },
  {
   "cell_type": "code",
   "execution_count": 17,
   "metadata": {},
   "outputs": [
    {
     "name": "stderr",
     "output_type": "stream",
     "text": [
      "ERROR 1: Output dataset /home/yoviajo/Descargas/d/FABDEM/geodat/recortado/rec_S11W066_FABDEM_V1-0.tif exists,\n",
      "but some command line options were provided indicating a new dataset\n",
      "should be created.  Please delete existing dataset and run again.\n",
      "\n",
      "ERROR 1: Output dataset /home/yoviajo/Descargas/d/FABDEM/geodat/recortado/rec_S11W067_FABDEM_V1-0.tif exists,\n",
      "but some command line options were provided indicating a new dataset\n",
      "should be created.  Please delete existing dataset and run again.\n",
      "\n"
     ]
    }
   ],
   "source": [
    "for raster in findRasters(INPUT_FOLDER, '*.tif'):\n",
    "    inRaster = INPUT_FOLDER + '/' + raster\n",
    "    outRaster = OUTPUT_FOLDER + '/rec_' + raster\n",
    "    cmd = 'gdalwarp -co COMPRESS=LZW -q -cutline %s -crop_to_cutline %s %s' % (CLIP, inRaster, outRaster)\n",
    "    os.system(cmd)"
   ]
  }
 ],
 "metadata": {
  "interpreter": {
   "hash": "2b835cac40c083c149749cf41f6698ecb19781a49ea68104fa390137c009d29e"
  },
  "kernelspec": {
   "display_name": "Python 3.10.2 ('geo_env')",
   "language": "python",
   "name": "python3"
  },
  "language_info": {
   "codemirror_mode": {
    "name": "ipython",
    "version": 3
   },
   "file_extension": ".py",
   "mimetype": "text/x-python",
   "name": "python",
   "nbconvert_exporter": "python",
   "pygments_lexer": "ipython3",
   "version": "3.10.2"
  },
  "orig_nbformat": 4
 },
 "nbformat": 4,
 "nbformat_minor": 2
}
