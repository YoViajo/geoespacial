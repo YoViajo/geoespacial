{
 "cells": [
  {
   "cell_type": "markdown",
   "metadata": {},
   "source": [
    "recortar_ras_shp_lotes\n",
    "\n",
    "Recorte de archivos ráster en un directorio usando una capa vectorial (archivo shape)"
   ]
  },
  {
   "cell_type": "code",
   "execution_count": 1,
   "metadata": {},
   "outputs": [],
   "source": [
    "import os, fnmatch"
   ]
  },
  {
   "cell_type": "markdown",
   "metadata": {},
   "source": [
    "Definir rutas de archivos"
   ]
  },
  {
   "cell_type": "code",
   "execution_count": 2,
   "metadata": {},
   "outputs": [],
   "source": [
    "CLIP= \"/home/yoviajo/Documentos/lab/geom/geodat/vector/bo_limite_nacional_b.shp\"\n",
    "INPUT_FOLDER= \"/home/yoviajo/Descargas/a/glob_crop\"\n",
    "OUTPUT_FOLDER= \"/home/yoviajo/Descargas/a/glob_crop/rec\""
   ]
  },
  {
   "cell_type": "code",
   "execution_count": 3,
   "metadata": {},
   "outputs": [
    {
     "name": "stderr",
     "output_type": "stream",
     "text": [
      "ERROR 4: /home/yoviajo/Descargas/a/glob_crop/rec_Global_cropland_SW_2007.tif: No such file or directory\n",
      "ERROR 4: /home/yoviajo/Descargas/a/glob_crop/rec_Global_cropland_SW_2003.tif: No such file or directory\n",
      "ERROR 4: /home/yoviajo/Descargas/a/glob_crop/rec_Global_cropland_SW_2015.tif: No such file or directory\n",
      "ERROR 4: /home/yoviajo/Descargas/a/glob_crop/rec_Global_cropland_SW_2011.tif: No such file or directory\n",
      "ERROR 4: /home/yoviajo/Descargas/a/glob_crop/rec_Global_cropland_SW_2019.tif: No such file or directory\n"
     ]
    }
   ],
   "source": [
    "def findRasters (path, filter):\n",
    "    for root, dirs, files in os.walk(path):\n",
    "        for file in fnmatch.filter(files, filter):\n",
    "            yield file\n",
    "\n",
    "for raster in findRasters(INPUT_FOLDER, '*.tif'):\n",
    "    inRaster = INPUT_FOLDER + '/' + raster\n",
    "    outRaster = OUTPUT_FOLDER + '/rec_' + raster\n",
    "    cmd = 'gdalwarp -ot Byte -of GTiff -co COMPRESS=LZW -q -cutline %s -crop_to_cutline %s %s' % (CLIP, inRaster, outRaster)\n",
    "    os.system(cmd)\n"
   ]
  }
 ],
 "metadata": {
  "interpreter": {
   "hash": "2b835cac40c083c149749cf41f6698ecb19781a49ea68104fa390137c009d29e"
  },
  "kernelspec": {
   "display_name": "Python 3.10.2 ('geo_env')",
   "language": "python",
   "name": "python3"
  },
  "language_info": {
   "codemirror_mode": {
    "name": "ipython",
    "version": 3
   },
   "file_extension": ".py",
   "mimetype": "text/x-python",
   "name": "python",
   "nbconvert_exporter": "python",
   "pygments_lexer": "ipython3",
   "version": "3.10.2"
  },
  "orig_nbformat": 4
 },
 "nbformat": 4,
 "nbformat_minor": 2
}
