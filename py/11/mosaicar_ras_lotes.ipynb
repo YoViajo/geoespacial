{
 "cells": [
  {
   "cell_type": "markdown",
   "metadata": {},
   "source": [
    "Ref: https://automating-gis-processes.github.io/CSC18/lessons/L6/raster-mosaic.html\n",
    "Creating a raster mosaic"
   ]
  },
  {
   "cell_type": "code",
   "execution_count": 1,
   "metadata": {},
   "outputs": [],
   "source": [
    "import rasterio\n",
    "from rasterio.merge import merge\n",
    "from rasterio.plot import show\n",
    "import glob\n",
    "import os"
   ]
  },
  {
   "cell_type": "code",
   "execution_count": 2,
   "metadata": {},
   "outputs": [
    {
     "name": "stdout",
     "output_type": "stream",
     "text": [
      "/home/yoviajo/Documentos/lab/geom/geodat/raster/GLAD/builtup/Bolivia/*.tif\n"
     ]
    }
   ],
   "source": [
    "# File and folder paths\n",
    "dirpath = \"/home/yoviajo/Documentos/lab/geom/geodat/raster/GLAD/builtup/Bolivia\"\n",
    "out_fp = \"/home/yoviajo/Documentos/lab/geom/geodat/raster/GLAD/builtup/Bolivia/mosaico.tif\"\n",
    "\n",
    "# Make a search criteria to select the TIF files\n",
    "search_criteria = \"*.tif\"\n",
    "\n",
    "q = os.path.join(dirpath, search_criteria)\n",
    "print(q)"
   ]
  },
  {
   "cell_type": "code",
   "execution_count": 3,
   "metadata": {},
   "outputs": [
    {
     "data": {
      "text/plain": [
       "['/home/yoviajo/Documentos/lab/geom/geodat/raster/GLAD/builtup/Bolivia/rec_Change_20S_070W.tif',\n",
       " '/home/yoviajo/Documentos/lab/geom/geodat/raster/GLAD/builtup/Bolivia/rec_Change_00N_070W.tif',\n",
       " '/home/yoviajo/Documentos/lab/geom/geodat/raster/GLAD/builtup/Bolivia/rec_Change_10S_070W.tif',\n",
       " '/home/yoviajo/Documentos/lab/geom/geodat/raster/GLAD/builtup/Bolivia/rec_Change_10S_060W.tif',\n",
       " '/home/yoviajo/Documentos/lab/geom/geodat/raster/GLAD/builtup/Bolivia/rec_Change_20S_060W.tif']"
      ]
     },
     "execution_count": 3,
     "metadata": {},
     "output_type": "execute_result"
    }
   ],
   "source": [
    "dem_fps = glob.glob(q)\n",
    "dem_fps"
   ]
  },
  {
   "cell_type": "code",
   "execution_count": 5,
   "metadata": {},
   "outputs": [
    {
     "data": {
      "text/plain": [
       "[<open DatasetReader name='/home/yoviajo/Documentos/lab/geom/geodat/raster/GLAD/builtup/Bolivia/rec_Change_20S_070W.tif' mode='r'>,\n",
       " <open DatasetReader name='/home/yoviajo/Documentos/lab/geom/geodat/raster/GLAD/builtup/Bolivia/rec_Change_00N_070W.tif' mode='r'>,\n",
       " <open DatasetReader name='/home/yoviajo/Documentos/lab/geom/geodat/raster/GLAD/builtup/Bolivia/rec_Change_10S_070W.tif' mode='r'>,\n",
       " <open DatasetReader name='/home/yoviajo/Documentos/lab/geom/geodat/raster/GLAD/builtup/Bolivia/rec_Change_10S_060W.tif' mode='r'>,\n",
       " <open DatasetReader name='/home/yoviajo/Documentos/lab/geom/geodat/raster/GLAD/builtup/Bolivia/rec_Change_20S_060W.tif' mode='r'>]"
      ]
     },
     "execution_count": 5,
     "metadata": {},
     "output_type": "execute_result"
    }
   ],
   "source": [
    "src_files_to_mosaic = []\n",
    "\n",
    "for fp in dem_fps:\n",
    "    src = rasterio.open(fp)\n",
    "    src_files_to_mosaic.append(src)\n",
    "\n",
    "src_files_to_mosaic"
   ]
  },
  {
   "cell_type": "code",
   "execution_count": null,
   "metadata": {},
   "outputs": [],
   "source": [
    "# Merge function returns a single mosaic array and the transformation info\n",
    "mosaic, out_trans = merge(src_files_to_mosaic)"
   ]
  },
  {
   "cell_type": "code",
   "execution_count": null,
   "metadata": {},
   "outputs": [],
   "source": [
    "show(mosaic, cmap='viridis')"
   ]
  }
 ],
 "metadata": {
  "kernelspec": {
   "display_name": "Python 3.10.6 ('raster')",
   "language": "python",
   "name": "python3"
  },
  "language_info": {
   "codemirror_mode": {
    "name": "ipython",
    "version": 3
   },
   "file_extension": ".py",
   "mimetype": "text/x-python",
   "name": "python",
   "nbconvert_exporter": "python",
   "pygments_lexer": "ipython3",
   "version": "3.10.6"
  },
  "orig_nbformat": 4,
  "vscode": {
   "interpreter": {
    "hash": "3a8c0d0eb3036f6025cee6fd009f4b438c11b9bb217f8d9847fe6b8b6ead66a4"
   }
  }
 },
 "nbformat": 4,
 "nbformat_minor": 2
}
