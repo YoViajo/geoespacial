{
 "cells": [
  {
   "cell_type": "markdown",
   "metadata": {},
   "source": [
    "Ref: https://www.whiteboxgeo.com/manual/wbt_book/tutorials/mosaic.html\n",
    "How can I mosaic hundreds of rasters?"
   ]
  },
  {
   "cell_type": "code",
   "execution_count": 2,
   "metadata": {},
   "outputs": [],
   "source": [
    "# This script is affiliated with the WhiteboxTools Geospatial analysis library \n",
    "# Authors: Anthony Francioni, Carys Owens, and John Lindsay\n",
    "# Created: 01/07/2020\n",
    "# Last Modified: 17/08/2020\n",
    "# License: MIT\n",
    "\n",
    "######################################################################################\n",
    "# This script creates an image mosaic from one or more input image files using the   #\n",
    "# Mosaic tool from Whitebox tools. This tool uses one of three user-defined          #\n",
    "# resampling methods (--method) including, nearest neighbour (\"nn\"), bilinear        #\n",
    "# interpolation (\"bilinear\"), and cubic convolution (\"cc\").                          #\n",
    "#                                                                                    #\n",
    "# The order of the input source image files is important. Grid cells in the output   #\n",
    "# image will be assigned the corresponding value determined from the last image      #\n",
    "# found in the list to possess an overlapping coordinate.                            #\n",
    "#                                                                                    #\n",
    "# Note that when the --inputs parameter is left unspecified, the tool will use all   #\n",
    "# of the raster files of supported data formats located in the working directory.    #\n",
    "#                                                                                    #\n",
    "# This is the preferred mosaicing tool to use when appending multiple images with    #\n",
    "# little to no overlapping areas, e.g. tiled data. When images have significant      #\n",
    "# overlap areas, users are advised to use the MosaicWithFeathering tool instead.     #\n",
    "######################################################################################\n",
    "\n",
    "# Library import statements\n",
    "import os\n",
    "from whitebox.whitebox_tools import WhiteboxTools # Module call to WhiteboxTools. For more information see https://jblindsay.github.io/wbt_book/python_scripting/using_whitebox_tools.html)"
   ]
  },
  {
   "cell_type": "code",
   "execution_count": 4,
   "metadata": {},
   "outputs": [
    {
     "name": "stdout",
     "output_type": "stream",
     "text": [
      "['./whitebox_tools', '-v']\n",
      "./whitebox_tools --run=\"Mosaic\" --wd=\"/home/yoviajo/Documentos/lab/geom/geodat/raster/GLAD/builtup/Bolivia\" --output='/home/yoviajo/Documentos/lab/geom/geodat/raster/GLAD/builtup/Bolivia/mosaico/mosaico.tif' --method=nn --compress_rasters\n",
      "\n",
      "****************************\n",
      "* Welcome to Mosaic        *\n",
      "* Powered by WhiteboxTools *\n",
      "* www.whiteboxgeo.com      *\n",
      "****************************\n",
      "Number of tiles: 2\n",
      "Reading data...\n",
      "memory allocation of 20653989336 bytes failed\n",
      "Complete!\n"
     ]
    }
   ],
   "source": [
    "def main():\n",
    "    #########################\n",
    "    # Set up Whitebox tools #\n",
    "    #########################\n",
    "    wbt = WhiteboxTools()\n",
    "    wbt.set_verbose_mode(True) # Sets verbose mode. If verbose mode is False, tools will not print output messages as they run\n",
    "    wbt.set_compress_rasters(True) # Compressed TIF file format based on the DEFLATE algorithm\n",
    "    \n",
    "    ##########################\n",
    "    # Set up tool parameters #\n",
    "    ##########################\n",
    "    input_directory = \"/home/yoviajo/Documentos/lab/geom/geodat/raster/GLAD/builtup/Bolivia/\" # Input directory; change to match user environment\n",
    "    output_directory = \"/home/yoviajo/Documentos/lab/geom/geodat/raster/GLAD/builtup/Bolivia/mosaico/\" # Output directory; change to match yours\n",
    "    \n",
    "    if os.path.isdir(output_directory) != True: # Creates output dir if it does not already exist \n",
    "        os.mkdir(output_directory)      \n",
    "    \n",
    "    ################\n",
    "    # Run the tool #\n",
    "    ################\n",
    "    wbt.set_working_dir(input_directory) # Set the working dir: This should be the location of the input files #\n",
    "    outfile = os.path.join(output_directory,\"mosaico.tif\") # Create the output file by joining the output directory path with the name of file\n",
    "    # Calls mosaic tool with nearest neighbour as the resampling method (\"nn\")\n",
    "    if wbt.mosaic(\n",
    "        output=outfile, \n",
    "        method = \"nn\"\n",
    "    ) != 0:\n",
    "        # Non-zero returns indicate an error.\n",
    "        print('ERROR running mosaic')\n",
    "    \n",
    "    print(\"Complete!\")\n",
    "\n",
    "main()"
   ]
  }
 ],
 "metadata": {
  "kernelspec": {
   "display_name": "Python 3.10.6 ('raster')",
   "language": "python",
   "name": "python3"
  },
  "language_info": {
   "codemirror_mode": {
    "name": "ipython",
    "version": 3
   },
   "file_extension": ".py",
   "mimetype": "text/x-python",
   "name": "python",
   "nbconvert_exporter": "python",
   "pygments_lexer": "ipython3",
   "version": "3.10.6"
  },
  "orig_nbformat": 4,
  "vscode": {
   "interpreter": {
    "hash": "3a8c0d0eb3036f6025cee6fd009f4b438c11b9bb217f8d9847fe6b8b6ead66a4"
   }
  }
 },
 "nbformat": 4,
 "nbformat_minor": 2
}
