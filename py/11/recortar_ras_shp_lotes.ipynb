{
 "cells": [
  {
   "cell_type": "markdown",
   "metadata": {},
   "source": [
    "Ref: https://gis.stackexchange.com/questions/75086/for-looping-folder-to-batch-clip-rasters-by-polygon-using-python-and-qgis\n",
    "\n",
    "For looping folder to batch clip rasters by polygon using python and QGIS?"
   ]
  },
  {
   "cell_type": "code",
   "execution_count": 1,
   "metadata": {},
   "outputs": [],
   "source": [
    "import os, fnmatch"
   ]
  },
  {
   "cell_type": "markdown",
   "metadata": {},
   "source": [
    "Definir variables"
   ]
  },
  {
   "cell_type": "code",
   "execution_count": 2,
   "metadata": {},
   "outputs": [],
   "source": [
    "CLIP= \"/home/yoviajo/Documentos/lab/geom/geodat/vector/bo_limite_nacional_b.shp\"\n",
    "INPUT_FOLDER= \"/home/yoviajo/Documentos/lab/geom/geodat/raster/GLAD/builtup\"\n",
    "#INPUT_FOLDER= \"/home/yoviajo/Descargas/d/FABDEM/geodat/orig/tmp/\"\n",
    "OUTPUT_FOLDER= \"/home/yoviajo/Documentos/lab/geom/geodat/raster/GLAD/builtup/Bolivia\""
   ]
  },
  {
   "cell_type": "markdown",
   "metadata": {},
   "source": [
    "Función encontrar rásters"
   ]
  },
  {
   "cell_type": "code",
   "execution_count": 3,
   "metadata": {},
   "outputs": [],
   "source": [
    "def findRasters (path, filter):\n",
    "    for root, dirs, files in os.walk(path):\n",
    "        for file in fnmatch.filter(files, filter):\n",
    "            yield file"
   ]
  },
  {
   "cell_type": "markdown",
   "metadata": {},
   "source": [
    "Cuerpo del procesamiento"
   ]
  },
  {
   "cell_type": "code",
   "execution_count": 4,
   "metadata": {},
   "outputs": [
    {
     "name": "stderr",
     "output_type": "stream",
     "text": [
      "ERROR 4: /home/yoviajo/Documentos/lab/geom/geodat/raster/GLAD/builtup//rec_Change_20S_070W.tif: No such file or directory\n",
      "ERROR 4: Failed to open source file /home/yoviajo/Documentos/lab/geom/geodat/raster/GLAD/builtup//rec_Change_20S_070W.tif\n",
      "\n",
      "ERROR 4: /home/yoviajo/Documentos/lab/geom/geodat/raster/GLAD/builtup//rec_Change_00N_070W.tif: No such file or directory\n",
      "ERROR 4: Failed to open source file /home/yoviajo/Documentos/lab/geom/geodat/raster/GLAD/builtup//rec_Change_00N_070W.tif\n",
      "\n",
      "ERROR 4: /home/yoviajo/Documentos/lab/geom/geodat/raster/GLAD/builtup//rec_Change_10S_070W.tif: No such file or directory\n",
      "ERROR 4: Failed to open source file /home/yoviajo/Documentos/lab/geom/geodat/raster/GLAD/builtup//rec_Change_10S_070W.tif\n",
      "\n",
      "ERROR 4: /home/yoviajo/Documentos/lab/geom/geodat/raster/GLAD/builtup//rec_Change_10S_060W.tif: No such file or directory\n",
      "ERROR 4: Failed to open source file /home/yoviajo/Documentos/lab/geom/geodat/raster/GLAD/builtup//rec_Change_10S_060W.tif\n",
      "\n",
      "ERROR 4: /home/yoviajo/Documentos/lab/geom/geodat/raster/GLAD/builtup//rec_Change_20S_060W.tif: No such file or directory\n",
      "ERROR 4: Failed to open source file /home/yoviajo/Documentos/lab/geom/geodat/raster/GLAD/builtup//rec_Change_20S_060W.tif\n",
      "\n"
     ]
    }
   ],
   "source": [
    "for raster in findRasters(INPUT_FOLDER, '*.tif'):\n",
    "    inRaster = INPUT_FOLDER + '/' + raster\n",
    "    outRaster = OUTPUT_FOLDER + '/rec_' + raster\n",
    "    cmd = 'gdalwarp -co COMPRESS=LZW -q -cutline %s -crop_to_cutline %s %s' % (CLIP, inRaster, outRaster)\n",
    "    os.system(cmd)"
   ]
  }
 ],
 "metadata": {
  "kernelspec": {
   "display_name": "Python 3.10.5 ('geos')",
   "language": "python",
   "name": "python3"
  },
  "language_info": {
   "codemirror_mode": {
    "name": "ipython",
    "version": 3
   },
   "file_extension": ".py",
   "mimetype": "text/x-python",
   "name": "python",
   "nbconvert_exporter": "python",
   "pygments_lexer": "ipython3",
   "version": "3.10.5"
  },
  "orig_nbformat": 4,
  "vscode": {
   "interpreter": {
    "hash": "f67eb26f1103f832d0b706d8fc6ab2d5c7bb69ded068c3ece838a988fc9241bd"
   }
  }
 },
 "nbformat": 4,
 "nbformat_minor": 2
}
