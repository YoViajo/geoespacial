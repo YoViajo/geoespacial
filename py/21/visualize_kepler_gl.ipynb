{
 "cells": [
  {
   "cell_type": "code",
   "execution_count": null,
   "metadata": {},
   "outputs": [],
   "source": [
    "Ref: https://www.analyticsvidhya.com/blog/2020/06/learn-visualize-geospatial-data-jupyter-kepler/?fbclid=IwAR05hSG1knyRQbqD_h-Gny_XQlOYGoWSZD4Y7d8rSuPsYegcAFRG6eybjN8\n",
    "\n",
    "Learn How to Visualize Geospatial Data in Jupyter using kepler.gl"
   ]
  },
  {
   "cell_type": "code",
   "execution_count": 1,
   "metadata": {},
   "outputs": [],
   "source": [
    "import pandas as pd"
   ]
  },
  {
   "cell_type": "markdown",
   "metadata": {},
   "source": [
    "Descripción de datos: data includes taxi records for 15 January 2015"
   ]
  },
  {
   "cell_type": "code",
   "execution_count": 2,
   "metadata": {},
   "outputs": [
    {
     "name": "stdout",
     "output_type": "stream",
     "text": [
      "Shape=> (97986, 12)\n"
     ]
    },
    {
     "data": {
      "text/html": [
       "<div>\n",
       "<style scoped>\n",
       "    .dataframe tbody tr th:only-of-type {\n",
       "        vertical-align: middle;\n",
       "    }\n",
       "\n",
       "    .dataframe tbody tr th {\n",
       "        vertical-align: top;\n",
       "    }\n",
       "\n",
       "    .dataframe thead th {\n",
       "        text-align: right;\n",
       "    }\n",
       "</style>\n",
       "<table border=\"1\" class=\"dataframe\">\n",
       "  <thead>\n",
       "    <tr style=\"text-align: right;\">\n",
       "      <th></th>\n",
       "      <th>VendorID</th>\n",
       "      <th>tpep_pickup_datetime</th>\n",
       "      <th>tpep_dropoff_datetime</th>\n",
       "      <th>passenger_count</th>\n",
       "      <th>trip_distance</th>\n",
       "      <th>pickup_longitude</th>\n",
       "      <th>pickup_latitude</th>\n",
       "      <th>dropoff_longitude</th>\n",
       "      <th>dropoff_latitude</th>\n",
       "      <th>fare_amount</th>\n",
       "      <th>tip_amount</th>\n",
       "      <th>total_amount</th>\n",
       "    </tr>\n",
       "  </thead>\n",
       "  <tbody>\n",
       "    <tr>\n",
       "      <th>0</th>\n",
       "      <td>2</td>\n",
       "      <td>2015-01-15 19:05:39 +00:00</td>\n",
       "      <td>2015-01-15 19:23:42 +00:00</td>\n",
       "      <td>1</td>\n",
       "      <td>1.59</td>\n",
       "      <td>-73.993896</td>\n",
       "      <td>40.750111</td>\n",
       "      <td>-73.974785</td>\n",
       "      <td>40.750618</td>\n",
       "      <td>12.0</td>\n",
       "      <td>3.25</td>\n",
       "      <td>17.05</td>\n",
       "    </tr>\n",
       "    <tr>\n",
       "      <th>1</th>\n",
       "      <td>2</td>\n",
       "      <td>2015-01-15 19:05:39 +00:00</td>\n",
       "      <td>2015-01-15 19:32:00 +00:00</td>\n",
       "      <td>1</td>\n",
       "      <td>2.38</td>\n",
       "      <td>-73.976425</td>\n",
       "      <td>40.739811</td>\n",
       "      <td>-73.983978</td>\n",
       "      <td>40.757889</td>\n",
       "      <td>16.5</td>\n",
       "      <td>4.38</td>\n",
       "      <td>22.68</td>\n",
       "    </tr>\n",
       "    <tr>\n",
       "      <th>2</th>\n",
       "      <td>2</td>\n",
       "      <td>2015-01-15 19:05:40 +00:00</td>\n",
       "      <td>2015-01-15 19:21:00 +00:00</td>\n",
       "      <td>5</td>\n",
       "      <td>2.83</td>\n",
       "      <td>-73.968704</td>\n",
       "      <td>40.754246</td>\n",
       "      <td>-73.955124</td>\n",
       "      <td>40.786858</td>\n",
       "      <td>12.5</td>\n",
       "      <td>0.00</td>\n",
       "      <td>14.30</td>\n",
       "    </tr>\n",
       "    <tr>\n",
       "      <th>3</th>\n",
       "      <td>2</td>\n",
       "      <td>2015-01-15 19:05:40 +00:00</td>\n",
       "      <td>2015-01-15 19:28:18 +00:00</td>\n",
       "      <td>5</td>\n",
       "      <td>8.33</td>\n",
       "      <td>-73.863060</td>\n",
       "      <td>40.769581</td>\n",
       "      <td>-73.952713</td>\n",
       "      <td>40.785782</td>\n",
       "      <td>26.0</td>\n",
       "      <td>8.08</td>\n",
       "      <td>41.21</td>\n",
       "    </tr>\n",
       "    <tr>\n",
       "      <th>4</th>\n",
       "      <td>2</td>\n",
       "      <td>2015-01-15 19:05:41 +00:00</td>\n",
       "      <td>2015-01-15 19:20:36 +00:00</td>\n",
       "      <td>1</td>\n",
       "      <td>2.37</td>\n",
       "      <td>-73.945541</td>\n",
       "      <td>40.779423</td>\n",
       "      <td>-73.980850</td>\n",
       "      <td>40.786083</td>\n",
       "      <td>11.5</td>\n",
       "      <td>0.00</td>\n",
       "      <td>13.30</td>\n",
       "    </tr>\n",
       "  </tbody>\n",
       "</table>\n",
       "</div>"
      ],
      "text/plain": [
       "   VendorID        tpep_pickup_datetime       tpep_dropoff_datetime  \\\n",
       "0         2  2015-01-15 19:05:39 +00:00  2015-01-15 19:23:42 +00:00   \n",
       "1         2  2015-01-15 19:05:39 +00:00  2015-01-15 19:32:00 +00:00   \n",
       "2         2  2015-01-15 19:05:40 +00:00  2015-01-15 19:21:00 +00:00   \n",
       "3         2  2015-01-15 19:05:40 +00:00  2015-01-15 19:28:18 +00:00   \n",
       "4         2  2015-01-15 19:05:41 +00:00  2015-01-15 19:20:36 +00:00   \n",
       "\n",
       "   passenger_count  trip_distance  pickup_longitude  pickup_latitude  \\\n",
       "0                1           1.59        -73.993896        40.750111   \n",
       "1                1           2.38        -73.976425        40.739811   \n",
       "2                5           2.83        -73.968704        40.754246   \n",
       "3                5           8.33        -73.863060        40.769581   \n",
       "4                1           2.37        -73.945541        40.779423   \n",
       "\n",
       "   dropoff_longitude  dropoff_latitude  fare_amount  tip_amount  total_amount  \n",
       "0         -73.974785         40.750618         12.0        3.25         17.05  \n",
       "1         -73.983978         40.757889         16.5        4.38         22.68  \n",
       "2         -73.955124         40.786858         12.5        0.00         14.30  \n",
       "3         -73.952713         40.785782         26.0        8.08         41.21  \n",
       "4         -73.980850         40.786083         11.5        0.00         13.30  "
      ]
     },
     "execution_count": 2,
     "metadata": {},
     "output_type": "execute_result"
    }
   ],
   "source": [
    "df=pd.read_csv('data.csv')\n",
    "print('Shape=>',df.shape)\n",
    "df.head()"
   ]
  },
  {
   "cell_type": "markdown",
   "metadata": {},
   "source": [
    "Ver las columnas del conjunto de datos"
   ]
  },
  {
   "cell_type": "code",
   "execution_count": 3,
   "metadata": {},
   "outputs": [
    {
     "data": {
      "text/plain": [
       "Index(['VendorID', 'tpep_pickup_datetime', 'tpep_dropoff_datetime',\n",
       "       'passenger_count', 'trip_distance', 'pickup_longitude',\n",
       "       'pickup_latitude', 'dropoff_longitude', 'dropoff_latitude',\n",
       "       'fare_amount', 'tip_amount', 'total_amount'],\n",
       "      dtype='object')"
      ]
     },
     "execution_count": 3,
     "metadata": {},
     "output_type": "execute_result"
    }
   ],
   "source": [
    "df.columns"
   ]
  },
  {
   "cell_type": "markdown",
   "metadata": {},
   "source": [
    "Ver si existen valores nulos"
   ]
  },
  {
   "cell_type": "code",
   "execution_count": 4,
   "metadata": {},
   "outputs": [
    {
     "data": {
      "text/plain": [
       "VendorID                 0\n",
       "tpep_pickup_datetime     0\n",
       "tpep_dropoff_datetime    0\n",
       "passenger_count          0\n",
       "trip_distance            0\n",
       "pickup_longitude         0\n",
       "pickup_latitude          0\n",
       "dropoff_longitude        0\n",
       "dropoff_latitude         0\n",
       "fare_amount              0\n",
       "tip_amount               0\n",
       "total_amount             0\n",
       "dtype: int64"
      ]
     },
     "execution_count": 4,
     "metadata": {},
     "output_type": "execute_result"
    }
   ],
   "source": [
    "df.isnull().sum()"
   ]
  },
  {
   "cell_type": "markdown",
   "metadata": {},
   "source": [
    "## Graficar el mapa base y agregar el conjunto de datos"
   ]
  },
  {
   "cell_type": "code",
   "execution_count": 5,
   "metadata": {},
   "outputs": [],
   "source": [
    "from keplergl import KeplerGl"
   ]
  },
  {
   "cell_type": "code",
   "execution_count": 6,
   "metadata": {},
   "outputs": [
    {
     "name": "stdout",
     "output_type": "stream",
     "text": [
      "User Guide: https://docs.kepler.gl/docs/keplergl-jupyter\n"
     ]
    },
    {
     "data": {
      "application/vnd.jupyter.widget-view+json": {
       "model_id": "eaa29319679a4fc1934beb09c0d142eb",
       "version_major": 2,
       "version_minor": 0
      },
      "text/plain": [
       "KeplerGl(height=500)"
      ]
     },
     "metadata": {},
     "output_type": "display_data"
    }
   ],
   "source": [
    "map1=KeplerGl(height=500)\n",
    "map1"
   ]
  },
  {
   "cell_type": "markdown",
   "metadata": {},
   "source": [
    "Agregar los datos de viajes de taxi"
   ]
  },
  {
   "cell_type": "code",
   "execution_count": 7,
   "metadata": {},
   "outputs": [],
   "source": [
    "map1.add_data(data=df,name='New York City Taxi Trips')"
   ]
  },
  {
   "cell_type": "markdown",
   "metadata": {},
   "source": [
    "## Personalizar mapas en kepler.gl"
   ]
  }
 ],
 "metadata": {
  "interpreter": {
   "hash": "58d7dbc0ddb95840a6351b41fb4266f46966454c6d7a35e17461c102ed33bbd9"
  },
  "kernelspec": {
   "display_name": "Python 3.8.5 ('geovis_env')",
   "language": "python",
   "name": "python3"
  },
  "language_info": {
   "codemirror_mode": {
    "name": "ipython",
    "version": 3
   },
   "file_extension": ".py",
   "mimetype": "text/x-python",
   "name": "python",
   "nbconvert_exporter": "python",
   "pygments_lexer": "ipython3",
   "version": "3.8.5"
  },
  "orig_nbformat": 4
 },
 "nbformat": 4,
 "nbformat_minor": 2
}
