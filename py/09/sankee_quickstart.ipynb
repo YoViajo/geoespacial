{
 "cells": [
  {
   "cell_type": "markdown",
   "metadata": {},
   "source": [
    "Inicialización"
   ]
  },
  {
   "cell_type": "code",
   "execution_count": 1,
   "metadata": {},
   "outputs": [
    {
     "data": {
      "text/html": [
       "<p>To authorize access needed by Earth Engine, open the following\n",
       "        URL in a web browser and follow the instructions:</p>\n",
       "        <p><a href=https://code.earthengine.google.com/client-auth?scopes=https%3A//www.googleapis.com/auth/earthengine%20https%3A//www.googleapis.com/auth/devstorage.full_control&request_id=lZrH4PUCu7CcJ6zzNtxIyD5QU55xyHW2bRKDsXNqOis&tc=fHnf1WQ16TXOPmYbHfc-SNWhEr57ncxGX0L_CsnEHlc&cc=MAYfwQQTNjBOVpvhVE24xIvKeimBQFUVJy_gr-dLxVo>https://code.earthengine.google.com/client-auth?scopes=https%3A//www.googleapis.com/auth/earthengine%20https%3A//www.googleapis.com/auth/devstorage.full_control&request_id=lZrH4PUCu7CcJ6zzNtxIyD5QU55xyHW2bRKDsXNqOis&tc=fHnf1WQ16TXOPmYbHfc-SNWhEr57ncxGX0L_CsnEHlc&cc=MAYfwQQTNjBOVpvhVE24xIvKeimBQFUVJy_gr-dLxVo</a></p>\n",
       "        <p>The authorization workflow will generate a code, which you should paste in the box below.</p>\n",
       "        "
      ],
      "text/plain": [
       "<IPython.core.display.HTML object>"
      ]
     },
     "metadata": {},
     "output_type": "display_data"
    },
    {
     "name": "stdout",
     "output_type": "stream",
     "text": [
      "\n",
      "Successfully saved authorization token.\n"
     ]
    }
   ],
   "source": [
    "import sankee\n",
    "import ee\n",
    "\n",
    "ee.Authenticate()\n",
    "ee.Initialize()"
   ]
  },
  {
   "cell_type": "markdown",
   "metadata": {},
   "source": [
    "Lista los conjuntos de datos predefinidos"
   ]
  },
  {
   "cell_type": "code",
   "execution_count": 2,
   "metadata": {},
   "outputs": [
    {
     "data": {
      "text/plain": [
       "[<Dataset: LCMS LC - Land Change Monitoring System Land Cover>,\n",
       " <Dataset: LCMS LU - Land Change Monitoring System Land Use>,\n",
       " <Dataset: NLCD - National Land Cover Database>,\n",
       " <Dataset: MCD12Q1 - MODIS Global Land Cover Type 1>,\n",
       " <Dataset: MCD12Q1 - MODIS Global Land Cover Type 2>,\n",
       " <Dataset: MCD12Q1 - MODIS Global Land Cover Type 3>,\n",
       " <Dataset: CGLS - Copernicus Global Land Cover>,\n",
       " <Dataset: C-CAP - NOAA Coastal Change Analysis Program 30m>,\n",
       " <Dataset: Canada Forested Ecosystem Land Cover>,\n",
       " <Dataset: LCMAP - Landscape Change Monitoring, Assessment, and Projection>,\n",
       " <Dataset: CORINE - Coordination of Information on the Environment>]"
      ]
     },
     "execution_count": 2,
     "metadata": {},
     "output_type": "execute_result"
    }
   ],
   "source": [
    "sankee.datasets.datasets"
   ]
  },
  {
   "cell_type": "markdown",
   "metadata": {},
   "source": [
    "Lista las clases del conjunto de datos \"LCMS LC - Land Change Monitoring System Land Cover\""
   ]
  },
  {
   "cell_type": "code",
   "execution_count": 3,
   "metadata": {},
   "outputs": [
    {
     "data": {
      "text/html": [
       "<div>\n",
       "<style scoped>\n",
       "    .dataframe tbody tr th:only-of-type {\n",
       "        vertical-align: middle;\n",
       "    }\n",
       "\n",
       "    .dataframe tbody tr th {\n",
       "        vertical-align: top;\n",
       "    }\n",
       "\n",
       "    .dataframe thead th {\n",
       "        text-align: right;\n",
       "    }\n",
       "</style>\n",
       "<table border=\"1\" class=\"dataframe\">\n",
       "  <thead>\n",
       "    <tr style=\"text-align: right;\">\n",
       "      <th></th>\n",
       "      <th>id</th>\n",
       "      <th>label</th>\n",
       "      <th>color</th>\n",
       "    </tr>\n",
       "  </thead>\n",
       "  <tbody>\n",
       "    <tr>\n",
       "      <th>0</th>\n",
       "      <td>1</td>\n",
       "      <td>Trees</td>\n",
       "      <td>#005e00</td>\n",
       "    </tr>\n",
       "    <tr>\n",
       "      <th>1</th>\n",
       "      <td>2</td>\n",
       "      <td>Tall Shrubs &amp; Trees Mix</td>\n",
       "      <td>#008000</td>\n",
       "    </tr>\n",
       "    <tr>\n",
       "      <th>2</th>\n",
       "      <td>3</td>\n",
       "      <td>Shrubs &amp; Trees Mix</td>\n",
       "      <td>#00cc00</td>\n",
       "    </tr>\n",
       "    <tr>\n",
       "      <th>3</th>\n",
       "      <td>4</td>\n",
       "      <td>Grass/Forb/Herb &amp; Trees Mix</td>\n",
       "      <td>#b3ff1a</td>\n",
       "    </tr>\n",
       "    <tr>\n",
       "      <th>4</th>\n",
       "      <td>5</td>\n",
       "      <td>Barren &amp; Trees Mix</td>\n",
       "      <td>#99ff99</td>\n",
       "    </tr>\n",
       "    <tr>\n",
       "      <th>5</th>\n",
       "      <td>6</td>\n",
       "      <td>Tall Shrubs</td>\n",
       "      <td>#b30088</td>\n",
       "    </tr>\n",
       "    <tr>\n",
       "      <th>6</th>\n",
       "      <td>7</td>\n",
       "      <td>Shrubs</td>\n",
       "      <td>#e68a00</td>\n",
       "    </tr>\n",
       "    <tr>\n",
       "      <th>7</th>\n",
       "      <td>8</td>\n",
       "      <td>Grass/Forb/Herb &amp; Shrubs Mix</td>\n",
       "      <td>#ffad33</td>\n",
       "    </tr>\n",
       "    <tr>\n",
       "      <th>8</th>\n",
       "      <td>9</td>\n",
       "      <td>Barren &amp; Shrubs Mix</td>\n",
       "      <td>#ffe0b3</td>\n",
       "    </tr>\n",
       "    <tr>\n",
       "      <th>9</th>\n",
       "      <td>10</td>\n",
       "      <td>Grass/Forb/Herb</td>\n",
       "      <td>#ffff00</td>\n",
       "    </tr>\n",
       "    <tr>\n",
       "      <th>10</th>\n",
       "      <td>11</td>\n",
       "      <td>Barren &amp; Grass/Forb/Herb Mix</td>\n",
       "      <td>#AA7700</td>\n",
       "    </tr>\n",
       "    <tr>\n",
       "      <th>11</th>\n",
       "      <td>12</td>\n",
       "      <td>Barren or Impervious</td>\n",
       "      <td>#d3bf9b</td>\n",
       "    </tr>\n",
       "    <tr>\n",
       "      <th>12</th>\n",
       "      <td>13</td>\n",
       "      <td>Snow or Ice</td>\n",
       "      <td>#ffffff</td>\n",
       "    </tr>\n",
       "    <tr>\n",
       "      <th>13</th>\n",
       "      <td>14</td>\n",
       "      <td>Water</td>\n",
       "      <td>#4780f3</td>\n",
       "    </tr>\n",
       "    <tr>\n",
       "      <th>14</th>\n",
       "      <td>15</td>\n",
       "      <td>No Data</td>\n",
       "      <td>#1B1716</td>\n",
       "    </tr>\n",
       "  </tbody>\n",
       "</table>\n",
       "</div>"
      ],
      "text/plain": [
       "    id                         label    color\n",
       "0    1                         Trees  #005e00\n",
       "1    2       Tall Shrubs & Trees Mix  #008000\n",
       "2    3            Shrubs & Trees Mix  #00cc00\n",
       "3    4   Grass/Forb/Herb & Trees Mix  #b3ff1a\n",
       "4    5            Barren & Trees Mix  #99ff99\n",
       "5    6                   Tall Shrubs  #b30088\n",
       "6    7                        Shrubs  #e68a00\n",
       "7    8  Grass/Forb/Herb & Shrubs Mix  #ffad33\n",
       "8    9           Barren & Shrubs Mix  #ffe0b3\n",
       "9   10               Grass/Forb/Herb  #ffff00\n",
       "10  11  Barren & Grass/Forb/Herb Mix  #AA7700\n",
       "11  12          Barren or Impervious  #d3bf9b\n",
       "12  13                   Snow or Ice  #ffffff\n",
       "13  14                         Water  #4780f3\n",
       "14  15                       No Data  #1B1716"
      ]
     },
     "execution_count": 3,
     "metadata": {},
     "output_type": "execute_result"
    }
   ],
   "source": [
    "sankee.datasets.LCMS_LC.df"
   ]
  },
  {
   "cell_type": "markdown",
   "metadata": {},
   "source": [
    "Lista las clases del conjunto de datos \"MCD12Q1 - MODIS Global Land Cover Type 1\""
   ]
  },
  {
   "cell_type": "code",
   "execution_count": 8,
   "metadata": {},
   "outputs": [
    {
     "data": {
      "text/html": [
       "<div>\n",
       "<style scoped>\n",
       "    .dataframe tbody tr th:only-of-type {\n",
       "        vertical-align: middle;\n",
       "    }\n",
       "\n",
       "    .dataframe tbody tr th {\n",
       "        vertical-align: top;\n",
       "    }\n",
       "\n",
       "    .dataframe thead th {\n",
       "        text-align: right;\n",
       "    }\n",
       "</style>\n",
       "<table border=\"1\" class=\"dataframe\">\n",
       "  <thead>\n",
       "    <tr style=\"text-align: right;\">\n",
       "      <th></th>\n",
       "      <th>id</th>\n",
       "      <th>label</th>\n",
       "      <th>color</th>\n",
       "    </tr>\n",
       "  </thead>\n",
       "  <tbody>\n",
       "    <tr>\n",
       "      <th>0</th>\n",
       "      <td>1</td>\n",
       "      <td>Evergreen conifer forest</td>\n",
       "      <td>#086a10</td>\n",
       "    </tr>\n",
       "    <tr>\n",
       "      <th>1</th>\n",
       "      <td>2</td>\n",
       "      <td>Evergreen broadleaf forest</td>\n",
       "      <td>#dcd159</td>\n",
       "    </tr>\n",
       "    <tr>\n",
       "      <th>2</th>\n",
       "      <td>3</td>\n",
       "      <td>Deciduous conifer forest</td>\n",
       "      <td>#54a708</td>\n",
       "    </tr>\n",
       "    <tr>\n",
       "      <th>3</th>\n",
       "      <td>4</td>\n",
       "      <td>Deciduous broadleaf forest</td>\n",
       "      <td>#78d203</td>\n",
       "    </tr>\n",
       "    <tr>\n",
       "      <th>4</th>\n",
       "      <td>5</td>\n",
       "      <td>Mixed forest</td>\n",
       "      <td>#009900</td>\n",
       "    </tr>\n",
       "    <tr>\n",
       "      <th>5</th>\n",
       "      <td>6</td>\n",
       "      <td>Closed shrubland</td>\n",
       "      <td>#c6b044</td>\n",
       "    </tr>\n",
       "    <tr>\n",
       "      <th>6</th>\n",
       "      <td>7</td>\n",
       "      <td>Open shrubland</td>\n",
       "      <td>#dcd159</td>\n",
       "    </tr>\n",
       "    <tr>\n",
       "      <th>7</th>\n",
       "      <td>8</td>\n",
       "      <td>Woody savanna</td>\n",
       "      <td>#dade48</td>\n",
       "    </tr>\n",
       "    <tr>\n",
       "      <th>8</th>\n",
       "      <td>9</td>\n",
       "      <td>Savanna</td>\n",
       "      <td>#fbff13</td>\n",
       "    </tr>\n",
       "    <tr>\n",
       "      <th>9</th>\n",
       "      <td>10</td>\n",
       "      <td>Grassland</td>\n",
       "      <td>#b6ff05</td>\n",
       "    </tr>\n",
       "    <tr>\n",
       "      <th>10</th>\n",
       "      <td>11</td>\n",
       "      <td>Permanent wetland</td>\n",
       "      <td>#27ff87</td>\n",
       "    </tr>\n",
       "    <tr>\n",
       "      <th>11</th>\n",
       "      <td>12</td>\n",
       "      <td>Cropland</td>\n",
       "      <td>#c24f44</td>\n",
       "    </tr>\n",
       "    <tr>\n",
       "      <th>12</th>\n",
       "      <td>13</td>\n",
       "      <td>Urban</td>\n",
       "      <td>#a5a5a5</td>\n",
       "    </tr>\n",
       "    <tr>\n",
       "      <th>13</th>\n",
       "      <td>14</td>\n",
       "      <td>Cropland and natural vegetation</td>\n",
       "      <td>#ff6d4c</td>\n",
       "    </tr>\n",
       "    <tr>\n",
       "      <th>14</th>\n",
       "      <td>15</td>\n",
       "      <td>Permanent snow and ice</td>\n",
       "      <td>#69fff8</td>\n",
       "    </tr>\n",
       "    <tr>\n",
       "      <th>15</th>\n",
       "      <td>16</td>\n",
       "      <td>Barren</td>\n",
       "      <td>#f9ffa4</td>\n",
       "    </tr>\n",
       "    <tr>\n",
       "      <th>16</th>\n",
       "      <td>17</td>\n",
       "      <td>Water</td>\n",
       "      <td>#1c0dff</td>\n",
       "    </tr>\n",
       "  </tbody>\n",
       "</table>\n",
       "</div>"
      ],
      "text/plain": [
       "    id                            label    color\n",
       "0    1         Evergreen conifer forest  #086a10\n",
       "1    2       Evergreen broadleaf forest  #dcd159\n",
       "2    3         Deciduous conifer forest  #54a708\n",
       "3    4       Deciduous broadleaf forest  #78d203\n",
       "4    5                     Mixed forest  #009900\n",
       "5    6                 Closed shrubland  #c6b044\n",
       "6    7                   Open shrubland  #dcd159\n",
       "7    8                    Woody savanna  #dade48\n",
       "8    9                          Savanna  #fbff13\n",
       "9   10                        Grassland  #b6ff05\n",
       "10  11                Permanent wetland  #27ff87\n",
       "11  12                         Cropland  #c24f44\n",
       "12  13                            Urban  #a5a5a5\n",
       "13  14  Cropland and natural vegetation  #ff6d4c\n",
       "14  15           Permanent snow and ice  #69fff8\n",
       "15  16                           Barren  #f9ffa4\n",
       "16  17                            Water  #1c0dff"
      ]
     },
     "execution_count": 8,
     "metadata": {},
     "output_type": "execute_result"
    }
   ],
   "source": [
    "sankee.datasets.MODIS_LC_TYPE1.df"
   ]
  },
  {
   "cell_type": "markdown",
   "metadata": {},
   "source": [
    "Definir el conjunto de datos con el que se trabajará"
   ]
  },
  {
   "cell_type": "code",
   "execution_count": 4,
   "metadata": {},
   "outputs": [],
   "source": [
    "dataset = sankee.datasets.MODIS_LC_TYPE1"
   ]
  },
  {
   "cell_type": "markdown",
   "metadata": {},
   "source": [
    "Definir el área de interés"
   ]
  },
  {
   "cell_type": "code",
   "execution_count": 5,
   "metadata": {},
   "outputs": [],
   "source": [
    "aoi = ee.Geometry.Polygon([\n",
    "    [-135.197519, 56.888425],\n",
    "    [-134.774492, 56.888425],\n",
    "    [-134.774492, 57.240839],\n",
    "    [-135.197519, 57.240839],\n",
    "])"
   ]
  },
  {
   "cell_type": "markdown",
   "metadata": {},
   "source": [
    "Definir los años de análisis"
   ]
  },
  {
   "cell_type": "code",
   "execution_count": 6,
   "metadata": {},
   "outputs": [],
   "source": [
    "years = [2001, 2010, 2019]"
   ]
  },
  {
   "cell_type": "markdown",
   "metadata": {},
   "source": [
    "Representar gráfico Sankey para los años y AdI definidos"
   ]
  },
  {
   "cell_type": "code",
   "execution_count": 7,
   "metadata": {},
   "outputs": [
    {
     "data": {
      "application/vnd.jupyter.widget-view+json": {
       "model_id": "28e567f3d6524059bc1a8a091fd96851",
       "version_major": 2,
       "version_minor": 0
      },
      "text/plain": [
       "SankeyPlot()"
      ]
     },
     "metadata": {},
     "output_type": "display_data"
    }
   ],
   "source": [
    "plot = dataset.sankify(years=years, region=aoi)\n",
    "plot"
   ]
  }
 ],
 "metadata": {
  "kernelspec": {
   "display_name": "Python 3.10.5 ('geemap')",
   "language": "python",
   "name": "python3"
  },
  "language_info": {
   "codemirror_mode": {
    "name": "ipython",
    "version": 3
   },
   "file_extension": ".py",
   "mimetype": "text/x-python",
   "name": "python",
   "nbconvert_exporter": "python",
   "pygments_lexer": "ipython3",
   "version": "3.10.5"
  },
  "orig_nbformat": 4,
  "vscode": {
   "interpreter": {
    "hash": "a1a7bebf36626153699dc5b9ba3362c3f8ccb8a2da15d68e9de5165e34010214"
   }
  }
 },
 "nbformat": 4,
 "nbformat_minor": 2
}
