{
 "cells": [
  {
   "cell_type": "markdown",
   "metadata": {},
   "source": [
    "Inicialización"
   ]
  },
  {
   "cell_type": "code",
   "execution_count": 1,
   "metadata": {},
   "outputs": [],
   "source": [
    "import sankee\n",
    "import ee\n",
    "\n",
    "#ee.Authenticate()\n",
    "ee.Initialize()"
   ]
  },
  {
   "cell_type": "markdown",
   "metadata": {},
   "source": [
    "Lista las clases del conjunto de datos \"MCD12Q1 - MODIS Global Land Cover Type 1\""
   ]
  },
  {
   "cell_type": "code",
   "execution_count": 2,
   "metadata": {},
   "outputs": [
    {
     "data": {
      "text/html": [
       "<div>\n",
       "<style scoped>\n",
       "    .dataframe tbody tr th:only-of-type {\n",
       "        vertical-align: middle;\n",
       "    }\n",
       "\n",
       "    .dataframe tbody tr th {\n",
       "        vertical-align: top;\n",
       "    }\n",
       "\n",
       "    .dataframe thead th {\n",
       "        text-align: right;\n",
       "    }\n",
       "</style>\n",
       "<table border=\"1\" class=\"dataframe\">\n",
       "  <thead>\n",
       "    <tr style=\"text-align: right;\">\n",
       "      <th></th>\n",
       "      <th>id</th>\n",
       "      <th>label</th>\n",
       "      <th>color</th>\n",
       "    </tr>\n",
       "  </thead>\n",
       "  <tbody>\n",
       "    <tr>\n",
       "      <th>0</th>\n",
       "      <td>1</td>\n",
       "      <td>Evergreen conifer forest</td>\n",
       "      <td>#086a10</td>\n",
       "    </tr>\n",
       "    <tr>\n",
       "      <th>1</th>\n",
       "      <td>2</td>\n",
       "      <td>Evergreen broadleaf forest</td>\n",
       "      <td>#dcd159</td>\n",
       "    </tr>\n",
       "    <tr>\n",
       "      <th>2</th>\n",
       "      <td>3</td>\n",
       "      <td>Deciduous conifer forest</td>\n",
       "      <td>#54a708</td>\n",
       "    </tr>\n",
       "    <tr>\n",
       "      <th>3</th>\n",
       "      <td>4</td>\n",
       "      <td>Deciduous broadleaf forest</td>\n",
       "      <td>#78d203</td>\n",
       "    </tr>\n",
       "    <tr>\n",
       "      <th>4</th>\n",
       "      <td>5</td>\n",
       "      <td>Mixed forest</td>\n",
       "      <td>#009900</td>\n",
       "    </tr>\n",
       "    <tr>\n",
       "      <th>5</th>\n",
       "      <td>6</td>\n",
       "      <td>Closed shrubland</td>\n",
       "      <td>#c6b044</td>\n",
       "    </tr>\n",
       "    <tr>\n",
       "      <th>6</th>\n",
       "      <td>7</td>\n",
       "      <td>Open shrubland</td>\n",
       "      <td>#dcd159</td>\n",
       "    </tr>\n",
       "    <tr>\n",
       "      <th>7</th>\n",
       "      <td>8</td>\n",
       "      <td>Woody savanna</td>\n",
       "      <td>#dade48</td>\n",
       "    </tr>\n",
       "    <tr>\n",
       "      <th>8</th>\n",
       "      <td>9</td>\n",
       "      <td>Savanna</td>\n",
       "      <td>#fbff13</td>\n",
       "    </tr>\n",
       "    <tr>\n",
       "      <th>9</th>\n",
       "      <td>10</td>\n",
       "      <td>Grassland</td>\n",
       "      <td>#b6ff05</td>\n",
       "    </tr>\n",
       "    <tr>\n",
       "      <th>10</th>\n",
       "      <td>11</td>\n",
       "      <td>Permanent wetland</td>\n",
       "      <td>#27ff87</td>\n",
       "    </tr>\n",
       "    <tr>\n",
       "      <th>11</th>\n",
       "      <td>12</td>\n",
       "      <td>Cropland</td>\n",
       "      <td>#c24f44</td>\n",
       "    </tr>\n",
       "    <tr>\n",
       "      <th>12</th>\n",
       "      <td>13</td>\n",
       "      <td>Urban</td>\n",
       "      <td>#a5a5a5</td>\n",
       "    </tr>\n",
       "    <tr>\n",
       "      <th>13</th>\n",
       "      <td>14</td>\n",
       "      <td>Cropland and natural vegetation</td>\n",
       "      <td>#ff6d4c</td>\n",
       "    </tr>\n",
       "    <tr>\n",
       "      <th>14</th>\n",
       "      <td>15</td>\n",
       "      <td>Permanent snow and ice</td>\n",
       "      <td>#69fff8</td>\n",
       "    </tr>\n",
       "    <tr>\n",
       "      <th>15</th>\n",
       "      <td>16</td>\n",
       "      <td>Barren</td>\n",
       "      <td>#f9ffa4</td>\n",
       "    </tr>\n",
       "    <tr>\n",
       "      <th>16</th>\n",
       "      <td>17</td>\n",
       "      <td>Water</td>\n",
       "      <td>#1c0dff</td>\n",
       "    </tr>\n",
       "  </tbody>\n",
       "</table>\n",
       "</div>"
      ],
      "text/plain": [
       "    id                            label    color\n",
       "0    1         Evergreen conifer forest  #086a10\n",
       "1    2       Evergreen broadleaf forest  #dcd159\n",
       "2    3         Deciduous conifer forest  #54a708\n",
       "3    4       Deciduous broadleaf forest  #78d203\n",
       "4    5                     Mixed forest  #009900\n",
       "5    6                 Closed shrubland  #c6b044\n",
       "6    7                   Open shrubland  #dcd159\n",
       "7    8                    Woody savanna  #dade48\n",
       "8    9                          Savanna  #fbff13\n",
       "9   10                        Grassland  #b6ff05\n",
       "10  11                Permanent wetland  #27ff87\n",
       "11  12                         Cropland  #c24f44\n",
       "12  13                            Urban  #a5a5a5\n",
       "13  14  Cropland and natural vegetation  #ff6d4c\n",
       "14  15           Permanent snow and ice  #69fff8\n",
       "15  16                           Barren  #f9ffa4\n",
       "16  17                            Water  #1c0dff"
      ]
     },
     "execution_count": 2,
     "metadata": {},
     "output_type": "execute_result"
    }
   ],
   "source": [
    "sankee.datasets.MODIS_LC_TYPE1.df"
   ]
  },
  {
   "cell_type": "markdown",
   "metadata": {},
   "source": [
    "Definir el conjunto de datos con el que se trabajará"
   ]
  },
  {
   "cell_type": "code",
   "execution_count": 4,
   "metadata": {},
   "outputs": [],
   "source": [
    "dataset = sankee.datasets.MODIS_LC_TYPE1"
   ]
  },
  {
   "cell_type": "markdown",
   "metadata": {},
   "source": [
    "Área de interés #1: área metropolitana de Scz"
   ]
  },
  {
   "cell_type": "code",
   "execution_count": 5,
   "metadata": {},
   "outputs": [],
   "source": [
    "aoi_1 = ee.Geometry.Polygon([\n",
    "    [-63.267860, -17.887600],\n",
    "    [-63.075600, -17.887600],\n",
    "    [-63.075600, -17.682951],\n",
    "    [-63.267860, -17.682951],\n",
    "])"
   ]
  },
  {
   "cell_type": "markdown",
   "metadata": {},
   "source": [
    "Definir los años de análisis"
   ]
  },
  {
   "cell_type": "code",
   "execution_count": 14,
   "metadata": {},
   "outputs": [],
   "source": [
    "years = [2001, 2019]"
   ]
  },
  {
   "cell_type": "markdown",
   "metadata": {},
   "source": [
    "Representar gráfico Sankey para los años y AdI definidos"
   ]
  },
  {
   "cell_type": "code",
   "execution_count": 7,
   "metadata": {},
   "outputs": [
    {
     "data": {
      "application/vnd.jupyter.widget-view+json": {
       "model_id": "78057e1c556046d0af555303309a04e9",
       "version_major": 2,
       "version_minor": 0
      },
      "text/plain": [
       "SankeyPlot()"
      ]
     },
     "metadata": {},
     "output_type": "display_data"
    }
   ],
   "source": [
    "plot = dataset.sankify(years=years, region=aoi_1)\n",
    "plot"
   ]
  },
  {
   "cell_type": "markdown",
   "metadata": {},
   "source": [
    "Área de interés #2: departamento de Oruro"
   ]
  },
  {
   "cell_type": "code",
   "execution_count": null,
   "metadata": {},
   "outputs": [],
   "source": [
    "aoi_2 = ee.Geometry.Polygon([\n",
    "    [-69.147949, -19.895888],\n",
    "    [-66.055298, -19.895888],\n",
    "    [-66.055298, -17.350638],\n",
    "    [-69.147949, -17.350638],\n",
    "])"
   ]
  },
  {
   "cell_type": "markdown",
   "metadata": {},
   "source": [
    "Representar gráfico Sankey para los años y AdI definidos"
   ]
  },
  {
   "cell_type": "code",
   "execution_count": 11,
   "metadata": {},
   "outputs": [
    {
     "data": {
      "application/vnd.jupyter.widget-view+json": {
       "model_id": "0d8dc135ffc3462c96fbafd7fb8027fb",
       "version_major": 2,
       "version_minor": 0
      },
      "text/plain": [
       "SankeyPlot()"
      ]
     },
     "metadata": {},
     "output_type": "display_data"
    }
   ],
   "source": [
    "plot = dataset.sankify(years=years, region=aoi_2)\n",
    "plot"
   ]
  },
  {
   "cell_type": "markdown",
   "metadata": {},
   "source": [
    "Área de interés #3: Bolivia"
   ]
  },
  {
   "cell_type": "code",
   "execution_count": 18,
   "metadata": {},
   "outputs": [],
   "source": [
    "years = [2001, 2020]"
   ]
  },
  {
   "cell_type": "code",
   "execution_count": 16,
   "metadata": {},
   "outputs": [],
   "source": [
    "aoi_3 = ee.Geometry.Polygon([\n",
    "    [-69.631348, -22.857195],\n",
    "    [-57.590332, -22.857195],\n",
    "    [-57.590332, -9.644077],\n",
    "    [-69.631348, -9.644077],\n",
    "])\n"
   ]
  },
  {
   "cell_type": "markdown",
   "metadata": {},
   "source": [
    "Representar gráfico Sankey para los años y AdI definidos"
   ]
  },
  {
   "cell_type": "code",
   "execution_count": 19,
   "metadata": {},
   "outputs": [
    {
     "data": {
      "application/vnd.jupyter.widget-view+json": {
       "model_id": "6cc08c9ca3b743ad80597f12b9fcf834",
       "version_major": 2,
       "version_minor": 0
      },
      "text/plain": [
       "SankeyPlot()"
      ]
     },
     "metadata": {},
     "output_type": "display_data"
    }
   ],
   "source": [
    "plot = dataset.sankify(years=years, region=aoi_3)\n",
    "plot"
   ]
  },
  {
   "cell_type": "markdown",
   "metadata": {},
   "source": [
    "## Área agrícola este Scz"
   ]
  },
  {
   "cell_type": "code",
   "execution_count": 20,
   "metadata": {},
   "outputs": [],
   "source": [
    "years = [2001, 2020]"
   ]
  },
  {
   "cell_type": "code",
   "execution_count": 21,
   "metadata": {},
   "outputs": [],
   "source": [
    "aoi_4 = ee.Geometry.Polygon([\n",
    "    [-63.078003, -18.096255],\n",
    "    [-61.309204, -18.096255],\n",
    "    [-61.309204, -16.712494],\n",
    "    [-63.078003, -16.712494],\n",
    "])"
   ]
  },
  {
   "cell_type": "code",
   "execution_count": 22,
   "metadata": {},
   "outputs": [
    {
     "data": {
      "application/vnd.jupyter.widget-view+json": {
       "model_id": "7bfa291fd3374935858bbeeb203fe722",
       "version_major": 2,
       "version_minor": 0
      },
      "text/plain": [
       "SankeyPlot()"
      ]
     },
     "metadata": {},
     "output_type": "display_data"
    }
   ],
   "source": [
    "plot = dataset.sankify(years=years, region=aoi_4)\n",
    "plot"
   ]
  },
  {
   "cell_type": "markdown",
   "metadata": {},
   "source": [
    "Cambiar conjunto de datos 100m"
   ]
  },
  {
   "cell_type": "code",
   "execution_count": 2,
   "metadata": {},
   "outputs": [],
   "source": [
    "dataset = sankee.datasets.CGLS_LC100"
   ]
  },
  {
   "cell_type": "code",
   "execution_count": 6,
   "metadata": {},
   "outputs": [],
   "source": [
    "years = [2015, 2019]"
   ]
  },
  {
   "cell_type": "code",
   "execution_count": 7,
   "metadata": {},
   "outputs": [],
   "source": [
    "aoi_4 = ee.Geometry.Polygon([\n",
    "    [-63.078003, -18.096255],\n",
    "    [-61.309204, -18.096255],\n",
    "    [-61.309204, -16.712494],\n",
    "    [-63.078003, -16.712494],\n",
    "])"
   ]
  },
  {
   "cell_type": "code",
   "execution_count": 8,
   "metadata": {},
   "outputs": [
    {
     "data": {
      "application/vnd.jupyter.widget-view+json": {
       "model_id": "b7f2470fddd949a8ae8ddbbbbefc4a0e",
       "version_major": 2,
       "version_minor": 0
      },
      "text/plain": [
       "SankeyPlot()"
      ]
     },
     "metadata": {},
     "output_type": "display_data"
    }
   ],
   "source": [
    "plot = dataset.sankify(years=years, region=aoi_4)\n",
    "plot"
   ]
  }
 ],
 "metadata": {
  "kernelspec": {
   "display_name": "Python 3.10.5 ('geemap')",
   "language": "python",
   "name": "python3"
  },
  "language_info": {
   "codemirror_mode": {
    "name": "ipython",
    "version": 3
   },
   "file_extension": ".py",
   "mimetype": "text/x-python",
   "name": "python",
   "nbconvert_exporter": "python",
   "pygments_lexer": "ipython3",
   "version": "3.10.5"
  },
  "orig_nbformat": 4,
  "vscode": {
   "interpreter": {
    "hash": "a1a7bebf36626153699dc5b9ba3362c3f8ccb8a2da15d68e9de5165e34010214"
   }
  }
 },
 "nbformat": 4,
 "nbformat_minor": 2
}
