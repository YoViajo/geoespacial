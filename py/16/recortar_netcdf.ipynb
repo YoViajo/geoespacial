{
 "cells": [
  {
   "cell_type": "markdown",
   "metadata": {},
   "source": [
    "Ref: https://mygeoblog.com/2019/06/25/mask-netcdf-using-shp-file/\n",
    "mask netcdf using shp file"
   ]
  },
  {
   "cell_type": "code",
   "execution_count": 2,
   "metadata": {},
   "outputs": [],
   "source": [
    "import netCDF4\n",
    "import numpy as np\n",
    "from osgeo import gdal,osr,ogr\n",
    "import matplotlib.pyplot as plt"
   ]
  },
  {
   "cell_type": "code",
   "execution_count": 3,
   "metadata": {},
   "outputs": [],
   "source": [
    "# function to create the mask of your shapefile\n",
    "def makeMask(lon,lat,res):\n",
    "    source_ds = ogr.Open(shapefile)\n",
    "    source_layer = source_ds.GetLayer()\n",
    " \n",
    "    # Create high res raster in memory\n",
    "    mem_ds = gdal.GetDriverByName('MEM').Create('', lon.size, lat.size, gdal.GDT_Byte)\n",
    "    mem_ds.SetGeoTransform((lon.min(), res, 0, lat.max(), 0, -res))\n",
    "    band = mem_ds.GetRasterBand(1)\n",
    " \n",
    "    # Rasterize shapefile to grid\n",
    "    gdal.RasterizeLayer(mem_ds, [1], source_layer, burn_values=[1])\n",
    " \n",
    "    # Get rasterized shapefile as numpy array\n",
    "    array = band.ReadAsArray()\n",
    " \n",
    "    # Flush memory file\n",
    "    mem_ds = None\n",
    "    band = None\n",
    "    return array"
   ]
  },
  {
   "cell_type": "code",
   "execution_count": 4,
   "metadata": {},
   "outputs": [],
   "source": [
    "# set the data directories\n",
    "datadir = \"/home/yoviajo/Documentos/lab/geom/python/82/geodat/\"\n",
    "shapefile = \"/home/yoviajo/Documentos/lab/geom/geodat/vector/bo_limite_nacional_b.shp\"\n",
    "infile = \"VHRAC.nc\"\n",
    "ncs = datadir + infile"
   ]
  },
  {
   "cell_type": "code",
   "execution_count": 6,
   "metadata": {},
   "outputs": [
    {
     "data": {
      "text/plain": [
       "<class 'netCDF4._netCDF4.Dataset'>\n",
       "root group (NETCDF4 data model, file format HDF5):\n",
       "    Title: LIS Very High Resolution Annual Climatology (VHRAC)\n",
       "    ATTENTION: This dataset has both 49-day and 1.0x1.0 degree boxcar Moving Average. Please read reference below for details.\n",
       "    Source: Tropical Rainfall Measuring Mission\n",
       "    Reference: Albrecht, R. I., S. J. Goodman, D. E. Buechler, R. J. Blakeslee, H. J. Christian (2016): Where are the lightning hotspots on Earth? Bulletin of American Meteorological Society, ...\n",
       "    D.O.I: ...\n",
       "    Version: 1.0\n",
       "    Institutions: University of Sao Paulo (USP), NOAA NESDIS, NASA MSFC\n",
       "    history: R. I. Albrecht, Mon Feb  1 15:01:32 2016\n",
       "    dimensions(sizes): Longitude(3600), Latitude(760), Time(365)\n",
       "    variables(dimensions): float64 Longitude(Longitude), float64 Latitude(Latitude), float64 Time(Time), float32 VHRAC_LIS_FRD(Time, Latitude, Longitude), float32 VHRAC_LIS_VT(Time, Latitude, Longitude)\n",
       "    groups: "
      ]
     },
     "execution_count": 6,
     "metadata": {},
     "output_type": "execute_result"
    }
   ],
   "source": [
    "# read the netcdf data file\n",
    "nc = netCDF4.Dataset(ncs,'r')\n",
    "nc"
   ]
  },
  {
   "cell_type": "code",
   "execution_count": 7,
   "metadata": {},
   "outputs": [],
   "source": [
    "# obtener la variable densidad de tasa de rayos (flash rate density - FRD)\n",
    "frd = nc.variables['VHRAC_LIS_FRD'][:]"
   ]
  },
  {
   "cell_type": "code",
   "execution_count": 9,
   "metadata": {},
   "outputs": [],
   "source": [
    "# show the precipitation\n",
    "#plt.imshow(frd)\n",
    "#plt.show()\n",
    "# get the longitude information\n",
    "lons = nc.variables['Longitude'][:]\n",
    "# get the latitude information\n",
    "lats = nc.variables['Latitude'][:]\n",
    "# calculate the cellsize\n",
    "cellsize = lons[:][1] - lons[:][0]"
   ]
  },
  {
   "cell_type": "code",
   "execution_count": 10,
   "metadata": {},
   "outputs": [
    {
     "name": "stderr",
     "output_type": "stream",
     "text": [
      "ERROR 1: PROJ: proj_identify: Open of /home/yoviajo/anaconda3/envs/netcdf/share/proj failed\n"
     ]
    },
    {
     "data": {
      "image/png": "[encoded data removed]",
      "text/plain": [
       "<Figure size 640x480 with 1 Axes>"
      ]
     },
     "metadata": {},
     "output_type": "display_data"
    }
   ],
   "source": [
    "# create the mask\n",
    "mask = makeMask(lons,lats,cellsize)\n",
    " \n",
    "# show the mask\n",
    "plt.imshow(mask)\n",
    "plt.show()"
   ]
  },
  {
   "cell_type": "code",
   "execution_count": 12,
   "metadata": {},
   "outputs": [
    {
     "ename": "",
     "evalue": "",
     "output_type": "error",
     "traceback": [
      "\u001b[1;31mCanceled future for execute_request message before replies were done"
     ]
    },
    {
     "ename": "",
     "evalue": "",
     "output_type": "error",
     "traceback": [
      "\u001b[1;31mEl Kernel se bloqueó al ejecutar código en la celda actual o en una celda anterior. Revise el código de las celdas para identificar una posible causa del error. Haga clic <a href='https://aka.ms/vscodeJupyterKernelCrash'>aquí</a> para obtener más información. Vea el [registro] de Jupyter (command:jupyter.viewOutput) para obtener más detalles."
     ]
    }
   ],
   "source": [
    "# mask the precipitation data\n",
    "dray = np.ma.masked_where(mask==0,frd)\n",
    " \n",
    "plt.imshow(dray)\n",
    "plt.show()\n",
    " \n",
    "# print some stats\n",
    "print(np.min(dray), np.mean(dray), np.max(dray))"
   ]
  }
 ],
 "metadata": {
  "kernelspec": {
   "display_name": "Python 3.11.0 ('netcdf')",
   "language": "python",
   "name": "python3"
  },
  "language_info": {
   "codemirror_mode": {
    "name": "ipython",
    "version": 3
   },
   "file_extension": ".py",
   "mimetype": "text/x-python",
   "name": "python",
   "nbconvert_exporter": "python",
   "pygments_lexer": "ipython3",
   "version": "3.11.0"
  },
  "orig_nbformat": 4,
  "vscode": {
   "interpreter": {
    "hash": "90781460e848c01d55a3ef5a5e54478e33b98b3512a9143dbfabe43bd1703578"
   }
  }
 },
 "nbformat": 4,
 "nbformat_minor": 2
}
