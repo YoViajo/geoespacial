{
 "cells": [
  {
   "cell_type": "markdown",
   "id": "bb900104",
   "metadata": {},
   "source": [
    "Ref: https://github.com/giswqs/geemap\n",
    "Demo paquete geemap"
   ]
  },
  {
   "cell_type": "code",
   "execution_count": 1,
   "id": "42454974",
   "metadata": {},
   "outputs": [],
   "source": [
    "import ee\n",
    "import geemap"
   ]
  },
  {
   "cell_type": "markdown",
   "id": "a6f4efd8",
   "metadata": {},
   "source": [
    "Crear un mapa interactivo"
   ]
  },
  {
   "cell_type": "code",
   "execution_count": 2,
   "id": "855f130e",
   "metadata": {},
   "outputs": [
    {
     "data": {
      "application/vnd.jupyter.widget-view+json": {
       "model_id": "fa48977c8dfd40aca96b7b86dd1ff40e",
       "version_major": 2,
       "version_minor": 0
      },
      "text/plain": [
       "Map(center=[40, -100], controls=(WidgetControl(options=['position', 'transparent_bg'], widget=HBox(children=(T…"
      ]
     },
     "metadata": {},
     "output_type": "display_data"
    }
   ],
   "source": [
    "Map = geemap.Map(center=(40, -100), zoom=4)\n",
    "Map"
   ]
  },
  {
   "cell_type": "code",
   "execution_count": 3,
   "id": "25eb2c4e",
   "metadata": {},
   "outputs": [],
   "source": [
    "# Add Earth Engine dataset\n",
    "dem = ee.Image('USGS/SRTMGL1_003')\n",
    "landcover = ee.Image(\"ESA/GLOBCOVER_L4_200901_200912_V2_3\").select('landcover')\n",
    "landsat7 = ee.Image('LE7_TOA_5YEAR/1999_2003')\n",
    "states = ee.FeatureCollection(\"TIGER/2018/States\")"
   ]
  },
  {
   "cell_type": "markdown",
   "id": "3017bc08",
   "metadata": {},
   "source": [
    "Definir parámetros de visualización"
   ]
  },
  {
   "cell_type": "code",
   "execution_count": 4,
   "id": "a3d17c7e",
   "metadata": {},
   "outputs": [],
   "source": [
    "dem_vis = {\n",
    "'min': 0,\n",
    "'max': 4000,\n",
    "'palette': ['006633', 'E5FFCC', '662A00', 'D8D8D8', 'F5F5F5']}\n",
    "\n",
    "landsat_vis = {\n",
    "    'min': 20,\n",
    "    'max': 200,\n",
    "    'bands': ['B4', 'B3', 'B2']\n",
    "}"
   ]
  },
  {
   "cell_type": "markdown",
   "id": "4b809b16",
   "metadata": {},
   "source": [
    "Mostrar datos en el mapa"
   ]
  },
  {
   "cell_type": "code",
   "execution_count": 5,
   "id": "e343c9d1",
   "metadata": {},
   "outputs": [],
   "source": [
    "Map.addLayer(dem, dem_vis, 'SRTM DEM', True, 0.5)\n",
    "Map.addLayer(landcover, {}, 'Land cover')\n",
    "Map.addLayer(landsat7, landsat_vis, 'Landsat 7')\n",
    "Map.addLayer(states, {}, \"US States\")"
   ]
  },
  {
   "cell_type": "code",
   "execution_count": null,
   "id": "acb30bb4",
   "metadata": {},
   "outputs": [],
   "source": []
  }
 ],
 "metadata": {
  "kernelspec": {
   "display_name": "Python 3.10.5 ('geemap_env')",
   "language": "python",
   "name": "python3"
  },
  "language_info": {
   "codemirror_mode": {
    "name": "ipython",
    "version": 3
   },
   "file_extension": ".py",
   "mimetype": "text/x-python",
   "name": "python",
   "nbconvert_exporter": "python",
   "pygments_lexer": "ipython3",
   "version": "3.10.5"
  },
  "vscode": {
   "interpreter": {
    "hash": "e3b945d5bfc03674d85636d7174a5d95178358aabc04a8a64dd8b39bf6d8bb1d"
   }
  }
 },
 "nbformat": 4,
 "nbformat_minor": 5
}
